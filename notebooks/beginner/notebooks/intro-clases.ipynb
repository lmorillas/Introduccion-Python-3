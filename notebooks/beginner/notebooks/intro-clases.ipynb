{
 "cells": [
  {
   "cell_type": "markdown",
   "metadata": {},
   "source": [
    "# Tutorial sobre Clases en Python\n",
    "\n",
    "## Introducción\n",
    "\n",
    "Una clase en Python es como un plano, un modelo para crear objetos. Las clases encapsulan datos para el objeto y métodos para manipular esos datos. Las clases son una de las principales características de la programación orientada a objetos.\n",
    "\n",
    "## Sintaxis Básica\n",
    "\n",
    "Para definir una clase en Python, se utiliza la palabra clave `class`, seguida del nombre de la clase:\n",
    "\n",
    "```python\n",
    "class MiClase:\n",
    "    pass\n",
    "```\n",
    "\n",
    "## Atributos y Métodos\n",
    "\n",
    "- **Atributos**: Son las variables que pertenecen a la clase.\n",
    "- **Métodos**: Son funciones que pertenecen a la clase.\n"
   ]
  },
  {
   "cell_type": "code",
   "execution_count": null,
   "metadata": {},
   "outputs": [],
   "source": [
    "# Ejemplo clase coche\n",
    "\n",
    "class Coche:\n",
    "    # Atributo\n",
    "    color = \"rojo\"\n",
    "\n",
    "    # Método\n",
    "    def describir(self):\n",
    "        return f\"Este es un coche {self.color}.\"\n"
   ]
  },
  {
   "cell_type": "code",
   "execution_count": null,
   "metadata": {},
   "outputs": [],
   "source": [
    "# Instanciación\n",
    "# Crear un objeto a partir de una clase se llama instanciación:\n",
    "\n",
    "mi_coche = Coche()\n",
    "\n",
    "### Acceso a Atributos y Métodos\n",
    "\n",
    "\n",
    "print(mi_coche.color)  # Salida: rojo\n",
    "print(mi_coche.describir())  # Salida: Este es un coche rojo.\n",
    "\n"
   ]
  },
  {
   "cell_type": "code",
   "execution_count": null,
   "metadata": {},
   "outputs": [],
   "source": [
    "# El Método `__init__()`\n",
    "\n",
    "# El método `__init__()` es el constructor de la clase, y se llama automáticamente al crear una nueva instancia de la clase.\n",
    "\n",
    "class Coche:\n",
    "    def __init__(self, color):\n",
    "        self.color = color\n"
   ]
  },
  {
   "cell_type": "code",
   "execution_count": null,
   "metadata": {},
   "outputs": [],
   "source": [
    "## Ejemplo Completo\n",
    "\n",
    "class Coche:\n",
    "    def __init__(self, color, marca):\n",
    "        self.color = color\n",
    "        self.marca = marca\n",
    "\n",
    "    def describir(self):\n",
    "        return f\"Este es un {self.marca} de color {self.color}.\"\n",
    "\n",
    "# Instanciación\n",
    "mi_coche = Coche(\"rojo\", \"Toyota\")\n",
    "\n",
    "# Acceso\n",
    "print(mi_coche.describir())\n"
   ]
  }
 ],
 "metadata": {
  "language_info": {
   "name": "python"
  },
  "orig_nbformat": 4
 },
 "nbformat": 4,
 "nbformat_minor": 2
}
