{
  "cells": [
    {
      "cell_type": "markdown",
      "metadata": {
        "id": "kcUtTaS2uGFT"
      },
      "source": [
        "# [File I/O](https://docs.python.org/3/tutorial/inputoutput.html#reading-and-writing-files)\n",
        "Reading and writing files."
      ]
    },
    {
      "cell_type": "markdown",
      "metadata": {
        "id": "Hty2H5bquGFV"
      },
      "source": [
        "## Working with paths\n",
        "\n",
        "### Path objects\n",
        "El módulo `pathlib` facilita el trabajo con archivos.\n",
        "\n",
        "Un objeto Path representa un archivo o directorio y permite lleva a cabo operaciones comunes de directorios y archivos.\n"
      ]
    },
    {
      "cell_type": "code",
      "execution_count": null,
      "metadata": {
        "id": "Lbwv35fnuGFW"
      },
      "outputs": [],
      "source": [
        "from pathlib import Path\n",
        "\n",
        "current_file = Path(\"file_io.ipynb\").resolve()\n",
        "print(f\"current file: {current_file}\")\n",
        "# Note: in .py files you can get the path of current file by Path(__file__)\n",
        "\n",
        "current_dir = current_file.parent\n",
        "print(f\"current directory: {current_dir}\")\n",
        "\n",
        "data_dir = current_dir / \"data\"\n",
        "print(f\"data directory: {data_dir}\")"
      ]
    },
    {
      "cell_type": "code",
      "source": [
        "data_dir.mkdir()\n",
        "# data_dir.mkdir(parents=True, exist_ok=True)  # anidado? no error si existe?"
      ],
      "metadata": {
        "id": "-QAVHNJEuw2h"
      },
      "execution_count": null,
      "outputs": []
    },
    {
      "cell_type": "markdown",
      "metadata": {
        "id": "WYcj2zQluGFX"
      },
      "source": [
        "### Checking if path exists"
      ]
    },
    {
      "cell_type": "code",
      "execution_count": null,
      "metadata": {
        "id": "NkSFmcRBuGFX"
      },
      "outputs": [],
      "source": [
        "print(f\"exists: {data_dir.exists()}\")\n",
        "print(f\"is file: {data_dir.is_file()}\")\n",
        "print(f\"is directory: {data_dir.is_dir()}\")"
      ]
    },
    {
      "cell_type": "markdown",
      "metadata": {
        "id": "zGjTuZ7yuGFX"
      },
      "source": [
        "## Reading files"
      ]
    },
    {
      "cell_type": "code",
      "source": [
        "# Creamos archivo de texto para pruebas\n",
        "!echo Esta es la primera línea. > data/simple_file.txt\n",
        "!echo Esta es la segunda línea. >> data/simple_file.txt\n",
        "!echo Esta es la tercera línea. >> data/simple_file.txt\n"
      ],
      "metadata": {
        "id": "4-hUhC3VvTa2"
      },
      "execution_count": null,
      "outputs": []
    },
    {
      "cell_type": "code",
      "execution_count": null,
      "metadata": {
        "id": "VvdyrqVXuGFX"
      },
      "outputs": [],
      "source": [
        "file_path = data_dir / \"simple_file.txt\"\n",
        "\n",
        "with open(file_path) as simple_file:\n",
        "    for line in simple_file:\n",
        "        print(line.strip())"
      ]
    },
    {
      "cell_type": "markdown",
      "metadata": {
        "id": "4iUJjAoEuGFY"
      },
      "source": [
        "The [`with`](https://docs.python.org/3/reference/compound_stmts.html#the-with-statement) statement is for obtaining a [context manager](https://docs.python.org/3/reference/datamodel.html#with-statement-context-managers) that will be used as an execution context for the commands inside the `with`. Context managers guarantee that certain operations are done when exiting the context.\n",
        "\n",
        "In this case, the context manager guarantees that `simple_file.close()` is implicitly called when exiting the context. This is a way to make developers life easier: you don't have to remember to explicitly close the file you openened nor be worried about an exception occuring while the file is open. Unclosed file maybe a source of a resource leak. Thus, prefer using `with open()` structure always with file I/O.\n",
        "\n",
        "To have an example, the same as above without the `with`."
      ]
    },
    {
      "cell_type": "code",
      "execution_count": null,
      "metadata": {
        "id": "Lxc_oYWauGFY"
      },
      "outputs": [],
      "source": [
        "file_path = data_dir / \"simple_file.txt\"\n",
        "\n",
        "# THIS IS NOT THE PREFERRED WAY\n",
        "simple_file = open(file_path)\n",
        "for line in simple_file:\n",
        "    print(line.strip())\n",
        "simple_file.close()  # This has to be called explicitly"
      ]
    },
    {
      "cell_type": "code",
      "source": [
        "# Podemos leer directamente con el objeto Path\n",
        "contenido = file_path.read_text()\n",
        "print(contenido)\n",
        "print('*' * 80)\n",
        "# Leer el archivo línea por línea\n",
        "lineas = file_path.read_text().splitlines()\n",
        "for linea in lineas:\n",
        "    print(linea)"
      ],
      "metadata": {
        "id": "duU4AMjq0aZJ"
      },
      "execution_count": null,
      "outputs": []
    },
    {
      "cell_type": "markdown",
      "metadata": {
        "id": "9-EElt8muGFZ"
      },
      "source": [
        "## Writing files"
      ]
    },
    {
      "cell_type": "code",
      "execution_count": null,
      "metadata": {
        "id": "o1xe5GiyuGFZ"
      },
      "outputs": [],
      "source": [
        "new_file_path = data_dir / \"new_file.txt\"\n",
        "\n",
        "with open(new_file_path, \"w\") as my_file:\n",
        "    my_file.write(\"This is my first file that I wrote with Python.\")"
      ]
    },
    {
      "cell_type": "markdown",
      "metadata": {
        "id": "pSdyklUXuGFZ"
      },
      "source": [
        "Now go and check that there is a `new_file.txt` in the data directory. After that you can delete the file by:"
      ]
    },
    {
      "cell_type": "code",
      "execution_count": null,
      "metadata": {
        "id": "2c50aDnLuGFZ"
      },
      "outputs": [],
      "source": [
        "import os\n",
        "if new_file_path.exists():  # make sure it's there\n",
        "    os.remove(new_file_path)  # delete it"
      ]
    },
    {
      "cell_type": "code",
      "source": [
        "# también podemos escribir directamente con el objeto Path\n",
        "alumnos = 'María\\nJesús\\nAna\\nMariví\\n'\n",
        "new_file_path.write_text(alumnos)"
      ],
      "metadata": {
        "id": "m9jzjSBk07jJ"
      },
      "execution_count": null,
      "outputs": []
    },
    {
      "cell_type": "code",
      "source": [
        "# Eliminación del archivo con el path\n",
        "new_file_path.unlink()"
      ],
      "metadata": {
        "id": "AIlYKJd72Wmf"
      },
      "execution_count": null,
      "outputs": []
    },
    {
      "cell_type": "markdown",
      "source": [
        "## Encodings\n",
        "\n",
        "Normalmente los ficheros se habrán codificado en `utf-8` o en `ascii`.\n"
      ],
      "metadata": {
        "id": "6hdV8wF_yEjF"
      }
    },
    {
      "cell_type": "code",
      "source": [
        "# Creo fichero en latin1\n",
        "file_latin = data_dir / \"file_latin.txt\"\n",
        "\n",
        "texto_latin = '''Este texto de iniciación con nuestros alumnos:\n",
        "José Martínez (martin@email.com). Matrícula: 100€\n",
        "'''.encode('iso-8859-1')  # puedes probar con otra codificación, por ej cp1252\n",
        "\n",
        "with open(file_latin, \"wb\") as my_file:\n",
        "    my_file.write(texto_latin)"
      ],
      "metadata": {
        "id": "zgLp0HszuPbU"
      },
      "execution_count": null,
      "outputs": []
    },
    {
      "cell_type": "code",
      "source": [
        "# si lo leemos normalmente, generará una excepción porque no es utf-8\n",
        "\n",
        "print(file_latin.read_text())"
      ],
      "metadata": {
        "id": "aLpJkzkFyDRp"
      },
      "execution_count": null,
      "outputs": []
    },
    {
      "cell_type": "code",
      "source": [
        "print(file_latin.read_text(encoding='iso-8859-1'))"
      ],
      "metadata": {
        "id": "DxAHSlPnzyDn"
      },
      "execution_count": null,
      "outputs": []
    },
    {
      "cell_type": "code",
      "source": [
        "!pip install chardet"
      ],
      "metadata": {
        "id": "iSHOepoT0SzN"
      },
      "execution_count": null,
      "outputs": []
    },
    {
      "cell_type": "code",
      "source": [
        "import chardet\n",
        "\n",
        "with open(file_latin, \"rb\") as archivo:\n",
        "    resultado = chardet.detect(archivo.read())\n",
        "    codificacion = resultado['encoding']\n",
        "\n",
        "print(f\"La codificación detectada es {codificacion}\")"
      ],
      "metadata": {
        "id": "H5lhxZDS2rtR"
      },
      "execution_count": null,
      "outputs": []
    },
    {
      "cell_type": "code",
      "source": [
        "# Si no funciona, puedes probar a intentar las más usuales, por ejemplo:\n",
        "\n",
        "codificaciones = ['utf-8', 'iso-8859-1', 'cp1252']\n",
        "\n",
        "for codificacion in codificaciones:\n",
        "    try:\n",
        "        with open(file_latin, encoding=codificacion) as archivo:\n",
        "            print(archivo.read())\n",
        "            print(f\"Archivo leído con éxito usando {codificacion}\")\n",
        "            break\n",
        "    except UnicodeDecodeError:\n",
        "        print(f\"Fallo al leer archivo con {codificacion}\")"
      ],
      "metadata": {
        "id": "CG65Z2X423fm"
      },
      "execution_count": null,
      "outputs": []
    },
    {
      "cell_type": "code",
      "source": [],
      "metadata": {
        "id": "mv2qjtyp3iQU"
      },
      "execution_count": null,
      "outputs": []
    }
  ],
  "metadata": {
    "kernelspec": {
      "display_name": "Python 3 (ipykernel)",
      "language": "python",
      "name": "python3"
    },
    "language_info": {
      "codemirror_mode": {
        "name": "ipython",
        "version": 3
      },
      "file_extension": ".py",
      "mimetype": "text/x-python",
      "name": "python",
      "nbconvert_exporter": "python",
      "pygments_lexer": "ipython3",
      "version": "3.11.0"
    },
    "colab": {
      "provenance": []
    }
  },
  "nbformat": 4,
  "nbformat_minor": 0
}