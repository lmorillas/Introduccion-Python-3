{
 "cells": [
  {
   "cell_type": "markdown",
   "metadata": {},
   "source": [
    "## `input` \n",
    "\n",
    "Los programas puede pedir información al usuario. Toda la información se almacena como una cadena de texto. La función que se usa es `input`. \n",
    "\n"
   ]
  },
  {
   "cell_type": "code",
   "execution_count": null,
   "metadata": {},
   "outputs": [],
   "source": [
    "name = input(\"What's your name? \")  # el parámetro es el prompt\n",
    "print(f\"Hello, {name}!\")\n",
    "\n",
    "# Cuidado con los tipos numéricos!!\n",
    "age = input(\"How old are you? \")\n",
    "age = int(age)\n",
    "pi = input(\"What's the value of pi? \")\n",
    "pi = float(pi)\n",
    "\n",
    "print(age, type(age))\n",
    "print(pi, type(pi))\n"
   ]
  },
  {
   "cell_type": "markdown",
   "metadata": {},
   "source": [
    "Los cuadernos de colab/jupyter pueden usar widgets especiales para pedir información al usuario. \n"
   ]
  },
  {
   "cell_type": "code",
   "execution_count": 4,
   "metadata": {},
   "outputs": [],
   "source": [
    "#@markdown ---\n",
    "nombre  = 'nombre' #@param {type:\"string\"}\n",
    "estudia =  'Otro' #@param ['E.S.0', 'Bachillerato', 'Ciclo Formativo', 'Universidad', 'Otro']\n",
    "mayor_de_edad = True #@param {type:\"boolean\"}\n",
    "edad =  18 #@param {type:\"slider\", min:12, max:50, step:1}\n",
    "year_nacimiento = 2000 #@param {type:\"integer\"}\n",
    "#@markdown ---\n",
    "\n",
    "print(nombre, estudia, mayor_de_edad, edad, year_nacimiento)"
   ]
  },
  {
   "cell_type": "markdown",
   "metadata": {},
   "source": [
    "## `print`\n",
    "\n",
    "La función `print` muestra información en la consola. \n"
   ]
  },
  {
   "cell_type": "code",
   "execution_count": null,
   "metadata": {},
   "outputs": [],
   "source": [
    "\n",
    "print(\"Hello, world!\")\n",
    "print(2 + 2)\n",
    "\n",
    "# Mostrar múltiples valores\n",
    "print(\"Hello,\", \"world!\")\n"
   ]
  },
  {
   "cell_type": "code",
   "execution_count": null,
   "metadata": {},
   "outputs": [],
   "source": [
    "# Mostrar un valor de una variable\n",
    "nombre = \"John\"\n",
    "print(f\"Hola, {nombre}!\")\n",
    "print(\"Hola, {}!\".format(nombre))\n",
    "print(\"Hola, %s!\" % nombre)\n"
   ]
  },
  {
   "cell_type": "code",
   "execution_count": null,
   "metadata": {},
   "outputs": [],
   "source": [
    "# Formatos \n",
    "print(f'{\"String\":<15} {\"Float\":>15} {\"Entero\":>10}')\n",
    "print(\"-\" * 40)\n",
    "print(f'{\"izquierda\":<15} {13.07:>15.2f} {123:>10}')\n",
    "print(f'{\"centro\":^15} {133.2:>15.2f} {456:>10}')\n",
    "print(f'{\"derecha\":>15} {1000.25:>15.2f} {789:>10}')\n"
   ]
  },
  {
   "cell_type": "code",
   "execution_count": null,
   "metadata": {},
   "outputs": [],
   "source": []
  }
 ],
 "metadata": {
  "kernelspec": {
   "display_name": "Python 3",
   "language": "python",
   "name": "python3"
  },
  "language_info": {
   "codemirror_mode": {
    "name": "ipython",
    "version": 3
   },
   "file_extension": ".py",
   "mimetype": "text/x-python",
   "name": "python",
   "nbconvert_exporter": "python",
   "pygments_lexer": "ipython3",
   "version": "3.6.3"
  },
  "orig_nbformat": 4
 },
 "nbformat": 4,
 "nbformat_minor": 2
}
