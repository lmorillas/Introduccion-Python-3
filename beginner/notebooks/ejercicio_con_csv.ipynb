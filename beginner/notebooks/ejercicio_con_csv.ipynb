{
 "cells": [
  {
   "cell_type": "markdown",
   "id": "b3afb8bc",
   "metadata": {},
   "source": [
    "# Ejercicio con archivos csv"
   ]
  },
  {
   "cell_type": "code",
   "execution_count": 21,
   "id": "ac8628d3",
   "metadata": {},
   "outputs": [],
   "source": [
    "import csv\n",
    "\n",
    "# DESCARGA ESTE ARCHIVO: https://www.aragon.es/documents/20127/38742837/casos_coronavirus_aragon.csv\n",
    "\n",
    "reader = csv.DictReader(open('casos_coronavirus_aragon.csv'), delimiter=';')\n",
    "datos = [x for x in reader]\n"
   ]
  },
  {
   "cell_type": "markdown",
   "id": "c79071da",
   "metadata": {},
   "source": [
    "### Muestra en pantalla los datos de positivos diarios,e ingresos hospitalarios del mes actual"
   ]
  }
 ],
 "metadata": {
  "kernelspec": {
   "display_name": "Python 3",
   "language": "python",
   "name": "python3"
  },
  "language_info": {
   "codemirror_mode": {
    "name": "ipython",
    "version": 3
   },
   "file_extension": ".py",
   "mimetype": "text/x-python",
   "name": "python",
   "nbconvert_exporter": "python",
   "pygments_lexer": "ipython3",
   "version": "3.6.3"
  }
 },
 "nbformat": 4,
 "nbformat_minor": 5
}
