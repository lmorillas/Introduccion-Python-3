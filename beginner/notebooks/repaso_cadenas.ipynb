{
 "cells": [
  {
   "cell_type": "markdown",
   "id": "5c240aa6-952a-4197-b62f-a2e544e42419",
   "metadata": {},
   "source": [
    "Las cadenas son objetos. Puedes ver su tipo y conocer sus métodos. Incluso pedir ayuda en el intérprete.\n",
    "```python\n",
    ">>> type(\"hola\")\n",
    ">>> dir(\"hola\")\n",
    ">>> help(\"hola\")\n",
    "```\n",
    "\n",
    "## Repaso de algunos métodos"
   ]
  },
  {
   "cell_type": "code",
   "execution_count": 3,
   "id": "767aad29-f543-464a-b93d-2fdc091863ae",
   "metadata": {},
   "outputs": [],
   "source": [
    "# crea una variable 'nombre' con tu nombre\n",
    "nombre = 'minombre'\n",
    "\n",
    "# Cuántos caracteres tiene la variable nombre?\n",
    "\n",
    "# Pon el nombre en mayúsculas\n",
    "\n",
    "# Ponlo en minúsculas\n",
    "\n",
    "\n",
    "# Completa la línea siguiente para que muestre tu nombre en mayúsculas y tus estudios con las \n",
    "# iniciales en mayúsculas y el resto en minúculas\n",
    "daw = 'desarrollo de aplicaciones web'\n",
    "print(\"Me llamo __ y estudio ___\".format(__, __)\n"
   ]
  },
  {
   "cell_type": "code",
   "execution_count": 4,
   "id": "ae4f503b-10df-4f0c-b314-6a414066d28a",
   "metadata": {},
   "outputs": [],
   "source": [
    "# Escribe la instrucción para que muestre 10 veces lo que estudias. \n",
    "# Nota: '*' con cadenas, repite\n",
    "# 10 veces separado por una coma\n",
    "\n",
    "# 10 veces, una en cada línea"
   ]
  },
  {
   "cell_type": "code",
   "execution_count": 7,
   "id": "4f01f0ef-267e-46e1-b0b9-d4abbbdf2d92",
   "metadata": {},
   "outputs": [],
   "source": [
    "# Dada una frase:\n",
    "frase = 'uno, dos, tres, cuatro, cinco, seis, siete'\n",
    "# Modifica la frase con una instrucción para que cuando la mostremos se vea cada palabra en una línea\n",
    "# Nota: usa el método *replace*\n",
    "\n",
    "???????\n",
    "\n",
    "print(frase)"
   ]
  },
  {
   "cell_type": "code",
   "execution_count": null,
   "id": "1c16edce-e923-4799-97d8-8a43c17359ba",
   "metadata": {},
   "outputs": [],
   "source": [
    "# Lo mismo con la siguiente frase. La instrucción tiene que ser en una sola línea y puede\n",
    "# haber varias llamadas a replace\n",
    "# Las palabras se verán una en cada línea con las iniciales en mayúsculas\n",
    "frase = 'uno, dos; tres;  cuatro:  cinco'\n",
    "\n",
    "???\n",
    "\n",
    "print(frase)"
   ]
  }
 ],
 "metadata": {
  "kernelspec": {
   "display_name": "Python 3",
   "language": "python",
   "name": "python3"
  },
  "language_info": {
   "codemirror_mode": {
    "name": "ipython",
    "version": 3
   },
   "file_extension": ".py",
   "mimetype": "text/x-python",
   "name": "python",
   "nbconvert_exporter": "python",
   "pygments_lexer": "ipython3",
   "version": "3.6.3"
  }
 },
 "nbformat": 4,
 "nbformat_minor": 5
}
